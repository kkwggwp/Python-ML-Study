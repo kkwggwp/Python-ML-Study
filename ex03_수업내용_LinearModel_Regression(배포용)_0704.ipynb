{
  "nbformat": 4,
  "nbformat_minor": 0,
  "metadata": {
    "colab": {
      "provenance": []
    },
    "kernelspec": {
      "name": "python3",
      "display_name": "Python 3"
    },
    "language_info": {
      "name": "python"
    }
  },
  "cells": [
    {
      "cell_type": "markdown",
      "source": [
        "### 학습목표\n",
        "- 선형회귀이론 및 선형회귀모델의 학습 알고리즘에 대해서 알수있다.\n",
        "- LinearModel 을 활용하여 집값 예측해보자!\n",
        "- 모델 학습을 위한 데이터 전처리 진행해보자~"
      ],
      "metadata": {
        "id": "AtXHqSSwzdXM"
      }
    },
    {
      "cell_type": "markdown",
      "source": [
        "- BX(Business Experience): 외국 주택 시장의 동향 및 가격 분석, 스마트 홈 시스템 설치환경 여부와 주택 가격의 상관관계 확인을 통해 스마트홈시스템 비즈니스 전략 수립, 스마트홈시스템의 대중화 및 초개인화\n",
        "- CX: 외국 고객이 중요하게 생각하는 주택 특성(방의 수, 차고의 수, 크기, 위치 등)과 개인의 가치관(안전, 에너지절약, 건강, 디자인, 가족끼리 의사소통 등)을 반영한 스마트홈 시스템 경험\n",
        "- DX: 외국 주택에 특화된 국외전용 스마트홈 앱 개발 및 외국주택 관리에 특화된 가전제품 개발(마당의 구조 및 시기를 반영한 잔디깎이 로봇, 스프링쿨러, 스마트벽난로 -> 난방시스템 등)"
      ],
      "metadata": {
        "id": "TzaXxr3Uzgrt"
      }
    },
    {
      "cell_type": "code",
      "source": [
        "# 1. 구글 마운트\n",
        "# 2. 파일위치 변경\n",
        "# 3. 라이브러리 불러오기"
      ],
      "metadata": {
        "id": "ZREuvpjazgpO"
      },
      "execution_count": null,
      "outputs": []
    },
    {
      "cell_type": "code",
      "source": [
        "from google.colab import drive\n",
        "drive.mount('/content/drive')"
      ],
      "metadata": {
        "id": "W4wodFob11kf",
        "colab": {
          "base_uri": "https://localhost:8080/"
        },
        "outputId": "833ab8be-904d-4a1c-8138-6d3d9b36d149"
      },
      "execution_count": 1,
      "outputs": [
        {
          "output_type": "stream",
          "name": "stdout",
          "text": [
            "Mounted at /content/drive\n"
          ]
        }
      ]
    },
    {
      "cell_type": "code",
      "source": [
        "%cd /content/drive/MyDrive/Colab Notebooks/인사교_컴퓨터비전A_머신러닝"
      ],
      "metadata": {
        "id": "dgl6EWxTzgnW",
        "colab": {
          "base_uri": "https://localhost:8080/"
        },
        "outputId": "a6e5f2dd-0cb5-4580-a336-2554b307faec"
      },
      "execution_count": 2,
      "outputs": [
        {
          "output_type": "stream",
          "name": "stdout",
          "text": [
            "/content/drive/MyDrive/Colab Notebooks/인사교_컴퓨터비전A_머신러닝\n"
          ]
        }
      ]
    },
    {
      "cell_type": "code",
      "source": [
        "import numpy as np\n",
        "import pandas as pd\n",
        "from matplotlib import pyplot as plt\n",
        "import seaborn as sns\n",
        "\n",
        "# 경고창 무시\n",
        "import warnings\n",
        "warnings.filterwarnings('ignore')"
      ],
      "metadata": {
        "id": "vcKTZGpOzgk2"
      },
      "execution_count": 3,
      "outputs": []
    },
    {
      "cell_type": "code",
      "source": [
        "# 데이터 불러오기\n",
        "data = pd.read_csv('./data/melb_data.csv')\n",
        "data"
      ],
      "metadata": {
        "id": "mOXIqWGYzgig",
        "colab": {
          "base_uri": "https://localhost:8080/",
          "height": 669
        },
        "collapsed": true,
        "outputId": "a69f387e-c913-409a-a9bb-68db5468bebb"
      },
      "execution_count": 4,
      "outputs": [
        {
          "output_type": "execute_result",
          "data": {
            "text/plain": [
              "              Suburb           Address  Rooms Type      Price Method  \\\n",
              "0         Abbotsford      85 Turner St      2    h  1480000.0      S   \n",
              "1         Abbotsford   25 Bloomburg St      2    h  1035000.0      S   \n",
              "2         Abbotsford      5 Charles St      3    h  1465000.0     SP   \n",
              "3         Abbotsford  40 Federation La      3    h   850000.0     PI   \n",
              "4         Abbotsford       55a Park St      4    h  1600000.0     VB   \n",
              "...              ...               ...    ...  ...        ...    ...   \n",
              "13575  Wheelers Hill      12 Strada Cr      4    h  1245000.0      S   \n",
              "13576   Williamstown     77 Merrett Dr      3    h  1031000.0     SP   \n",
              "13577   Williamstown       83 Power St      3    h  1170000.0      S   \n",
              "13578   Williamstown      96 Verdon St      4    h  2500000.0     PI   \n",
              "13579     Yarraville        6 Agnes St      4    h  1285000.0     SP   \n",
              "\n",
              "        SellerG        Date  Distance  Postcode  ...  Bathroom  Car  Landsize  \\\n",
              "0        Biggin   3/12/2016       2.5    3067.0  ...       1.0  1.0     202.0   \n",
              "1        Biggin   4/02/2016       2.5    3067.0  ...       1.0  0.0     156.0   \n",
              "2        Biggin   4/03/2017       2.5    3067.0  ...       2.0  0.0     134.0   \n",
              "3        Biggin   4/03/2017       2.5    3067.0  ...       2.0  1.0      94.0   \n",
              "4        Nelson   4/06/2016       2.5    3067.0  ...       1.0  2.0     120.0   \n",
              "...         ...         ...       ...       ...  ...       ...  ...       ...   \n",
              "13575     Barry  26/08/2017      16.7    3150.0  ...       2.0  2.0     652.0   \n",
              "13576  Williams  26/08/2017       6.8    3016.0  ...       2.0  2.0     333.0   \n",
              "13577     Raine  26/08/2017       6.8    3016.0  ...       2.0  4.0     436.0   \n",
              "13578   Sweeney  26/08/2017       6.8    3016.0  ...       1.0  5.0     866.0   \n",
              "13579   Village  26/08/2017       6.3    3013.0  ...       1.0  1.0     362.0   \n",
              "\n",
              "       BuildingArea  YearBuilt  CouncilArea Lattitude  Longtitude  \\\n",
              "0               NaN        NaN        Yarra -37.79960   144.99840   \n",
              "1              79.0     1900.0        Yarra -37.80790   144.99340   \n",
              "2             150.0     1900.0        Yarra -37.80930   144.99440   \n",
              "3               NaN        NaN        Yarra -37.79690   144.99690   \n",
              "4             142.0     2014.0        Yarra -37.80720   144.99410   \n",
              "...             ...        ...          ...       ...         ...   \n",
              "13575           NaN     1981.0          NaN -37.90562   145.16761   \n",
              "13576         133.0     1995.0          NaN -37.85927   144.87904   \n",
              "13577           NaN     1997.0          NaN -37.85274   144.88738   \n",
              "13578         157.0     1920.0          NaN -37.85908   144.89299   \n",
              "13579         112.0     1920.0          NaN -37.81188   144.88449   \n",
              "\n",
              "                       Regionname Propertycount  \n",
              "0           Northern Metropolitan        4019.0  \n",
              "1           Northern Metropolitan        4019.0  \n",
              "2           Northern Metropolitan        4019.0  \n",
              "3           Northern Metropolitan        4019.0  \n",
              "4           Northern Metropolitan        4019.0  \n",
              "...                           ...           ...  \n",
              "13575  South-Eastern Metropolitan        7392.0  \n",
              "13576        Western Metropolitan        6380.0  \n",
              "13577        Western Metropolitan        6380.0  \n",
              "13578        Western Metropolitan        6380.0  \n",
              "13579        Western Metropolitan        6543.0  \n",
              "\n",
              "[13580 rows x 21 columns]"
            ],
            "text/html": [
              "\n",
              "  <div id=\"df-17fe32e7-9f35-4963-b04e-95d9b118ad29\" class=\"colab-df-container\">\n",
              "    <div>\n",
              "<style scoped>\n",
              "    .dataframe tbody tr th:only-of-type {\n",
              "        vertical-align: middle;\n",
              "    }\n",
              "\n",
              "    .dataframe tbody tr th {\n",
              "        vertical-align: top;\n",
              "    }\n",
              "\n",
              "    .dataframe thead th {\n",
              "        text-align: right;\n",
              "    }\n",
              "</style>\n",
              "<table border=\"1\" class=\"dataframe\">\n",
              "  <thead>\n",
              "    <tr style=\"text-align: right;\">\n",
              "      <th></th>\n",
              "      <th>Suburb</th>\n",
              "      <th>Address</th>\n",
              "      <th>Rooms</th>\n",
              "      <th>Type</th>\n",
              "      <th>Price</th>\n",
              "      <th>Method</th>\n",
              "      <th>SellerG</th>\n",
              "      <th>Date</th>\n",
              "      <th>Distance</th>\n",
              "      <th>Postcode</th>\n",
              "      <th>...</th>\n",
              "      <th>Bathroom</th>\n",
              "      <th>Car</th>\n",
              "      <th>Landsize</th>\n",
              "      <th>BuildingArea</th>\n",
              "      <th>YearBuilt</th>\n",
              "      <th>CouncilArea</th>\n",
              "      <th>Lattitude</th>\n",
              "      <th>Longtitude</th>\n",
              "      <th>Regionname</th>\n",
              "      <th>Propertycount</th>\n",
              "    </tr>\n",
              "  </thead>\n",
              "  <tbody>\n",
              "    <tr>\n",
              "      <th>0</th>\n",
              "      <td>Abbotsford</td>\n",
              "      <td>85 Turner St</td>\n",
              "      <td>2</td>\n",
              "      <td>h</td>\n",
              "      <td>1480000.0</td>\n",
              "      <td>S</td>\n",
              "      <td>Biggin</td>\n",
              "      <td>3/12/2016</td>\n",
              "      <td>2.5</td>\n",
              "      <td>3067.0</td>\n",
              "      <td>...</td>\n",
              "      <td>1.0</td>\n",
              "      <td>1.0</td>\n",
              "      <td>202.0</td>\n",
              "      <td>NaN</td>\n",
              "      <td>NaN</td>\n",
              "      <td>Yarra</td>\n",
              "      <td>-37.79960</td>\n",
              "      <td>144.99840</td>\n",
              "      <td>Northern Metropolitan</td>\n",
              "      <td>4019.0</td>\n",
              "    </tr>\n",
              "    <tr>\n",
              "      <th>1</th>\n",
              "      <td>Abbotsford</td>\n",
              "      <td>25 Bloomburg St</td>\n",
              "      <td>2</td>\n",
              "      <td>h</td>\n",
              "      <td>1035000.0</td>\n",
              "      <td>S</td>\n",
              "      <td>Biggin</td>\n",
              "      <td>4/02/2016</td>\n",
              "      <td>2.5</td>\n",
              "      <td>3067.0</td>\n",
              "      <td>...</td>\n",
              "      <td>1.0</td>\n",
              "      <td>0.0</td>\n",
              "      <td>156.0</td>\n",
              "      <td>79.0</td>\n",
              "      <td>1900.0</td>\n",
              "      <td>Yarra</td>\n",
              "      <td>-37.80790</td>\n",
              "      <td>144.99340</td>\n",
              "      <td>Northern Metropolitan</td>\n",
              "      <td>4019.0</td>\n",
              "    </tr>\n",
              "    <tr>\n",
              "      <th>2</th>\n",
              "      <td>Abbotsford</td>\n",
              "      <td>5 Charles St</td>\n",
              "      <td>3</td>\n",
              "      <td>h</td>\n",
              "      <td>1465000.0</td>\n",
              "      <td>SP</td>\n",
              "      <td>Biggin</td>\n",
              "      <td>4/03/2017</td>\n",
              "      <td>2.5</td>\n",
              "      <td>3067.0</td>\n",
              "      <td>...</td>\n",
              "      <td>2.0</td>\n",
              "      <td>0.0</td>\n",
              "      <td>134.0</td>\n",
              "      <td>150.0</td>\n",
              "      <td>1900.0</td>\n",
              "      <td>Yarra</td>\n",
              "      <td>-37.80930</td>\n",
              "      <td>144.99440</td>\n",
              "      <td>Northern Metropolitan</td>\n",
              "      <td>4019.0</td>\n",
              "    </tr>\n",
              "    <tr>\n",
              "      <th>3</th>\n",
              "      <td>Abbotsford</td>\n",
              "      <td>40 Federation La</td>\n",
              "      <td>3</td>\n",
              "      <td>h</td>\n",
              "      <td>850000.0</td>\n",
              "      <td>PI</td>\n",
              "      <td>Biggin</td>\n",
              "      <td>4/03/2017</td>\n",
              "      <td>2.5</td>\n",
              "      <td>3067.0</td>\n",
              "      <td>...</td>\n",
              "      <td>2.0</td>\n",
              "      <td>1.0</td>\n",
              "      <td>94.0</td>\n",
              "      <td>NaN</td>\n",
              "      <td>NaN</td>\n",
              "      <td>Yarra</td>\n",
              "      <td>-37.79690</td>\n",
              "      <td>144.99690</td>\n",
              "      <td>Northern Metropolitan</td>\n",
              "      <td>4019.0</td>\n",
              "    </tr>\n",
              "    <tr>\n",
              "      <th>4</th>\n",
              "      <td>Abbotsford</td>\n",
              "      <td>55a Park St</td>\n",
              "      <td>4</td>\n",
              "      <td>h</td>\n",
              "      <td>1600000.0</td>\n",
              "      <td>VB</td>\n",
              "      <td>Nelson</td>\n",
              "      <td>4/06/2016</td>\n",
              "      <td>2.5</td>\n",
              "      <td>3067.0</td>\n",
              "      <td>...</td>\n",
              "      <td>1.0</td>\n",
              "      <td>2.0</td>\n",
              "      <td>120.0</td>\n",
              "      <td>142.0</td>\n",
              "      <td>2014.0</td>\n",
              "      <td>Yarra</td>\n",
              "      <td>-37.80720</td>\n",
              "      <td>144.99410</td>\n",
              "      <td>Northern Metropolitan</td>\n",
              "      <td>4019.0</td>\n",
              "    </tr>\n",
              "    <tr>\n",
              "      <th>...</th>\n",
              "      <td>...</td>\n",
              "      <td>...</td>\n",
              "      <td>...</td>\n",
              "      <td>...</td>\n",
              "      <td>...</td>\n",
              "      <td>...</td>\n",
              "      <td>...</td>\n",
              "      <td>...</td>\n",
              "      <td>...</td>\n",
              "      <td>...</td>\n",
              "      <td>...</td>\n",
              "      <td>...</td>\n",
              "      <td>...</td>\n",
              "      <td>...</td>\n",
              "      <td>...</td>\n",
              "      <td>...</td>\n",
              "      <td>...</td>\n",
              "      <td>...</td>\n",
              "      <td>...</td>\n",
              "      <td>...</td>\n",
              "      <td>...</td>\n",
              "    </tr>\n",
              "    <tr>\n",
              "      <th>13575</th>\n",
              "      <td>Wheelers Hill</td>\n",
              "      <td>12 Strada Cr</td>\n",
              "      <td>4</td>\n",
              "      <td>h</td>\n",
              "      <td>1245000.0</td>\n",
              "      <td>S</td>\n",
              "      <td>Barry</td>\n",
              "      <td>26/08/2017</td>\n",
              "      <td>16.7</td>\n",
              "      <td>3150.0</td>\n",
              "      <td>...</td>\n",
              "      <td>2.0</td>\n",
              "      <td>2.0</td>\n",
              "      <td>652.0</td>\n",
              "      <td>NaN</td>\n",
              "      <td>1981.0</td>\n",
              "      <td>NaN</td>\n",
              "      <td>-37.90562</td>\n",
              "      <td>145.16761</td>\n",
              "      <td>South-Eastern Metropolitan</td>\n",
              "      <td>7392.0</td>\n",
              "    </tr>\n",
              "    <tr>\n",
              "      <th>13576</th>\n",
              "      <td>Williamstown</td>\n",
              "      <td>77 Merrett Dr</td>\n",
              "      <td>3</td>\n",
              "      <td>h</td>\n",
              "      <td>1031000.0</td>\n",
              "      <td>SP</td>\n",
              "      <td>Williams</td>\n",
              "      <td>26/08/2017</td>\n",
              "      <td>6.8</td>\n",
              "      <td>3016.0</td>\n",
              "      <td>...</td>\n",
              "      <td>2.0</td>\n",
              "      <td>2.0</td>\n",
              "      <td>333.0</td>\n",
              "      <td>133.0</td>\n",
              "      <td>1995.0</td>\n",
              "      <td>NaN</td>\n",
              "      <td>-37.85927</td>\n",
              "      <td>144.87904</td>\n",
              "      <td>Western Metropolitan</td>\n",
              "      <td>6380.0</td>\n",
              "    </tr>\n",
              "    <tr>\n",
              "      <th>13577</th>\n",
              "      <td>Williamstown</td>\n",
              "      <td>83 Power St</td>\n",
              "      <td>3</td>\n",
              "      <td>h</td>\n",
              "      <td>1170000.0</td>\n",
              "      <td>S</td>\n",
              "      <td>Raine</td>\n",
              "      <td>26/08/2017</td>\n",
              "      <td>6.8</td>\n",
              "      <td>3016.0</td>\n",
              "      <td>...</td>\n",
              "      <td>2.0</td>\n",
              "      <td>4.0</td>\n",
              "      <td>436.0</td>\n",
              "      <td>NaN</td>\n",
              "      <td>1997.0</td>\n",
              "      <td>NaN</td>\n",
              "      <td>-37.85274</td>\n",
              "      <td>144.88738</td>\n",
              "      <td>Western Metropolitan</td>\n",
              "      <td>6380.0</td>\n",
              "    </tr>\n",
              "    <tr>\n",
              "      <th>13578</th>\n",
              "      <td>Williamstown</td>\n",
              "      <td>96 Verdon St</td>\n",
              "      <td>4</td>\n",
              "      <td>h</td>\n",
              "      <td>2500000.0</td>\n",
              "      <td>PI</td>\n",
              "      <td>Sweeney</td>\n",
              "      <td>26/08/2017</td>\n",
              "      <td>6.8</td>\n",
              "      <td>3016.0</td>\n",
              "      <td>...</td>\n",
              "      <td>1.0</td>\n",
              "      <td>5.0</td>\n",
              "      <td>866.0</td>\n",
              "      <td>157.0</td>\n",
              "      <td>1920.0</td>\n",
              "      <td>NaN</td>\n",
              "      <td>-37.85908</td>\n",
              "      <td>144.89299</td>\n",
              "      <td>Western Metropolitan</td>\n",
              "      <td>6380.0</td>\n",
              "    </tr>\n",
              "    <tr>\n",
              "      <th>13579</th>\n",
              "      <td>Yarraville</td>\n",
              "      <td>6 Agnes St</td>\n",
              "      <td>4</td>\n",
              "      <td>h</td>\n",
              "      <td>1285000.0</td>\n",
              "      <td>SP</td>\n",
              "      <td>Village</td>\n",
              "      <td>26/08/2017</td>\n",
              "      <td>6.3</td>\n",
              "      <td>3013.0</td>\n",
              "      <td>...</td>\n",
              "      <td>1.0</td>\n",
              "      <td>1.0</td>\n",
              "      <td>362.0</td>\n",
              "      <td>112.0</td>\n",
              "      <td>1920.0</td>\n",
              "      <td>NaN</td>\n",
              "      <td>-37.81188</td>\n",
              "      <td>144.88449</td>\n",
              "      <td>Western Metropolitan</td>\n",
              "      <td>6543.0</td>\n",
              "    </tr>\n",
              "  </tbody>\n",
              "</table>\n",
              "<p>13580 rows × 21 columns</p>\n",
              "</div>\n",
              "    <div class=\"colab-df-buttons\">\n",
              "\n",
              "  <div class=\"colab-df-container\">\n",
              "    <button class=\"colab-df-convert\" onclick=\"convertToInteractive('df-17fe32e7-9f35-4963-b04e-95d9b118ad29')\"\n",
              "            title=\"Convert this dataframe to an interactive table.\"\n",
              "            style=\"display:none;\">\n",
              "\n",
              "  <svg xmlns=\"http://www.w3.org/2000/svg\" height=\"24px\" viewBox=\"0 -960 960 960\">\n",
              "    <path d=\"M120-120v-720h720v720H120Zm60-500h600v-160H180v160Zm220 220h160v-160H400v160Zm0 220h160v-160H400v160ZM180-400h160v-160H180v160Zm440 0h160v-160H620v160ZM180-180h160v-160H180v160Zm440 0h160v-160H620v160Z\"/>\n",
              "  </svg>\n",
              "    </button>\n",
              "\n",
              "  <style>\n",
              "    .colab-df-container {\n",
              "      display:flex;\n",
              "      gap: 12px;\n",
              "    }\n",
              "\n",
              "    .colab-df-convert {\n",
              "      background-color: #E8F0FE;\n",
              "      border: none;\n",
              "      border-radius: 50%;\n",
              "      cursor: pointer;\n",
              "      display: none;\n",
              "      fill: #1967D2;\n",
              "      height: 32px;\n",
              "      padding: 0 0 0 0;\n",
              "      width: 32px;\n",
              "    }\n",
              "\n",
              "    .colab-df-convert:hover {\n",
              "      background-color: #E2EBFA;\n",
              "      box-shadow: 0px 1px 2px rgba(60, 64, 67, 0.3), 0px 1px 3px 1px rgba(60, 64, 67, 0.15);\n",
              "      fill: #174EA6;\n",
              "    }\n",
              "\n",
              "    .colab-df-buttons div {\n",
              "      margin-bottom: 4px;\n",
              "    }\n",
              "\n",
              "    [theme=dark] .colab-df-convert {\n",
              "      background-color: #3B4455;\n",
              "      fill: #D2E3FC;\n",
              "    }\n",
              "\n",
              "    [theme=dark] .colab-df-convert:hover {\n",
              "      background-color: #434B5C;\n",
              "      box-shadow: 0px 1px 3px 1px rgba(0, 0, 0, 0.15);\n",
              "      filter: drop-shadow(0px 1px 2px rgba(0, 0, 0, 0.3));\n",
              "      fill: #FFFFFF;\n",
              "    }\n",
              "  </style>\n",
              "\n",
              "    <script>\n",
              "      const buttonEl =\n",
              "        document.querySelector('#df-17fe32e7-9f35-4963-b04e-95d9b118ad29 button.colab-df-convert');\n",
              "      buttonEl.style.display =\n",
              "        google.colab.kernel.accessAllowed ? 'block' : 'none';\n",
              "\n",
              "      async function convertToInteractive(key) {\n",
              "        const element = document.querySelector('#df-17fe32e7-9f35-4963-b04e-95d9b118ad29');\n",
              "        const dataTable =\n",
              "          await google.colab.kernel.invokeFunction('convertToInteractive',\n",
              "                                                    [key], {});\n",
              "        if (!dataTable) return;\n",
              "\n",
              "        const docLinkHtml = 'Like what you see? Visit the ' +\n",
              "          '<a target=\"_blank\" href=https://colab.research.google.com/notebooks/data_table.ipynb>data table notebook</a>'\n",
              "          + ' to learn more about interactive tables.';\n",
              "        element.innerHTML = '';\n",
              "        dataTable['output_type'] = 'display_data';\n",
              "        await google.colab.output.renderOutput(dataTable, element);\n",
              "        const docLink = document.createElement('div');\n",
              "        docLink.innerHTML = docLinkHtml;\n",
              "        element.appendChild(docLink);\n",
              "      }\n",
              "    </script>\n",
              "  </div>\n",
              "\n",
              "\n",
              "    <div id=\"df-5dfba1a1-e640-4225-98a8-dc961352ee0b\">\n",
              "      <button class=\"colab-df-quickchart\" onclick=\"quickchart('df-5dfba1a1-e640-4225-98a8-dc961352ee0b')\"\n",
              "                title=\"Suggest charts\"\n",
              "                style=\"display:none;\">\n",
              "\n",
              "<svg xmlns=\"http://www.w3.org/2000/svg\" height=\"24px\"viewBox=\"0 0 24 24\"\n",
              "     width=\"24px\">\n",
              "    <g>\n",
              "        <path d=\"M19 3H5c-1.1 0-2 .9-2 2v14c0 1.1.9 2 2 2h14c1.1 0 2-.9 2-2V5c0-1.1-.9-2-2-2zM9 17H7v-7h2v7zm4 0h-2V7h2v10zm4 0h-2v-4h2v4z\"/>\n",
              "    </g>\n",
              "</svg>\n",
              "      </button>\n",
              "\n",
              "<style>\n",
              "  .colab-df-quickchart {\n",
              "      --bg-color: #E8F0FE;\n",
              "      --fill-color: #1967D2;\n",
              "      --hover-bg-color: #E2EBFA;\n",
              "      --hover-fill-color: #174EA6;\n",
              "      --disabled-fill-color: #AAA;\n",
              "      --disabled-bg-color: #DDD;\n",
              "  }\n",
              "\n",
              "  [theme=dark] .colab-df-quickchart {\n",
              "      --bg-color: #3B4455;\n",
              "      --fill-color: #D2E3FC;\n",
              "      --hover-bg-color: #434B5C;\n",
              "      --hover-fill-color: #FFFFFF;\n",
              "      --disabled-bg-color: #3B4455;\n",
              "      --disabled-fill-color: #666;\n",
              "  }\n",
              "\n",
              "  .colab-df-quickchart {\n",
              "    background-color: var(--bg-color);\n",
              "    border: none;\n",
              "    border-radius: 50%;\n",
              "    cursor: pointer;\n",
              "    display: none;\n",
              "    fill: var(--fill-color);\n",
              "    height: 32px;\n",
              "    padding: 0;\n",
              "    width: 32px;\n",
              "  }\n",
              "\n",
              "  .colab-df-quickchart:hover {\n",
              "    background-color: var(--hover-bg-color);\n",
              "    box-shadow: 0 1px 2px rgba(60, 64, 67, 0.3), 0 1px 3px 1px rgba(60, 64, 67, 0.15);\n",
              "    fill: var(--button-hover-fill-color);\n",
              "  }\n",
              "\n",
              "  .colab-df-quickchart-complete:disabled,\n",
              "  .colab-df-quickchart-complete:disabled:hover {\n",
              "    background-color: var(--disabled-bg-color);\n",
              "    fill: var(--disabled-fill-color);\n",
              "    box-shadow: none;\n",
              "  }\n",
              "\n",
              "  .colab-df-spinner {\n",
              "    border: 2px solid var(--fill-color);\n",
              "    border-color: transparent;\n",
              "    border-bottom-color: var(--fill-color);\n",
              "    animation:\n",
              "      spin 1s steps(1) infinite;\n",
              "  }\n",
              "\n",
              "  @keyframes spin {\n",
              "    0% {\n",
              "      border-color: transparent;\n",
              "      border-bottom-color: var(--fill-color);\n",
              "      border-left-color: var(--fill-color);\n",
              "    }\n",
              "    20% {\n",
              "      border-color: transparent;\n",
              "      border-left-color: var(--fill-color);\n",
              "      border-top-color: var(--fill-color);\n",
              "    }\n",
              "    30% {\n",
              "      border-color: transparent;\n",
              "      border-left-color: var(--fill-color);\n",
              "      border-top-color: var(--fill-color);\n",
              "      border-right-color: var(--fill-color);\n",
              "    }\n",
              "    40% {\n",
              "      border-color: transparent;\n",
              "      border-right-color: var(--fill-color);\n",
              "      border-top-color: var(--fill-color);\n",
              "    }\n",
              "    60% {\n",
              "      border-color: transparent;\n",
              "      border-right-color: var(--fill-color);\n",
              "    }\n",
              "    80% {\n",
              "      border-color: transparent;\n",
              "      border-right-color: var(--fill-color);\n",
              "      border-bottom-color: var(--fill-color);\n",
              "    }\n",
              "    90% {\n",
              "      border-color: transparent;\n",
              "      border-bottom-color: var(--fill-color);\n",
              "    }\n",
              "  }\n",
              "</style>\n",
              "\n",
              "      <script>\n",
              "        async function quickchart(key) {\n",
              "          const quickchartButtonEl =\n",
              "            document.querySelector('#' + key + ' button');\n",
              "          quickchartButtonEl.disabled = true;  // To prevent multiple clicks.\n",
              "          quickchartButtonEl.classList.add('colab-df-spinner');\n",
              "          try {\n",
              "            const charts = await google.colab.kernel.invokeFunction(\n",
              "                'suggestCharts', [key], {});\n",
              "          } catch (error) {\n",
              "            console.error('Error during call to suggestCharts:', error);\n",
              "          }\n",
              "          quickchartButtonEl.classList.remove('colab-df-spinner');\n",
              "          quickchartButtonEl.classList.add('colab-df-quickchart-complete');\n",
              "        }\n",
              "        (() => {\n",
              "          let quickchartButtonEl =\n",
              "            document.querySelector('#df-5dfba1a1-e640-4225-98a8-dc961352ee0b button');\n",
              "          quickchartButtonEl.style.display =\n",
              "            google.colab.kernel.accessAllowed ? 'block' : 'none';\n",
              "        })();\n",
              "      </script>\n",
              "    </div>\n",
              "\n",
              "  <div id=\"id_07a7ab30-52f5-4492-8b98-215b3760540a\">\n",
              "    <style>\n",
              "      .colab-df-generate {\n",
              "        background-color: #E8F0FE;\n",
              "        border: none;\n",
              "        border-radius: 50%;\n",
              "        cursor: pointer;\n",
              "        display: none;\n",
              "        fill: #1967D2;\n",
              "        height: 32px;\n",
              "        padding: 0 0 0 0;\n",
              "        width: 32px;\n",
              "      }\n",
              "\n",
              "      .colab-df-generate:hover {\n",
              "        background-color: #E2EBFA;\n",
              "        box-shadow: 0px 1px 2px rgba(60, 64, 67, 0.3), 0px 1px 3px 1px rgba(60, 64, 67, 0.15);\n",
              "        fill: #174EA6;\n",
              "      }\n",
              "\n",
              "      [theme=dark] .colab-df-generate {\n",
              "        background-color: #3B4455;\n",
              "        fill: #D2E3FC;\n",
              "      }\n",
              "\n",
              "      [theme=dark] .colab-df-generate:hover {\n",
              "        background-color: #434B5C;\n",
              "        box-shadow: 0px 1px 3px 1px rgba(0, 0, 0, 0.15);\n",
              "        filter: drop-shadow(0px 1px 2px rgba(0, 0, 0, 0.3));\n",
              "        fill: #FFFFFF;\n",
              "      }\n",
              "    </style>\n",
              "    <button class=\"colab-df-generate\" onclick=\"generateWithVariable('data')\"\n",
              "            title=\"Generate code using this dataframe.\"\n",
              "            style=\"display:none;\">\n",
              "\n",
              "  <svg xmlns=\"http://www.w3.org/2000/svg\" height=\"24px\"viewBox=\"0 0 24 24\"\n",
              "       width=\"24px\">\n",
              "    <path d=\"M7,19H8.4L18.45,9,17,7.55,7,17.6ZM5,21V16.75L18.45,3.32a2,2,0,0,1,2.83,0l1.4,1.43a1.91,1.91,0,0,1,.58,1.4,1.91,1.91,0,0,1-.58,1.4L9.25,21ZM18.45,9,17,7.55Zm-12,3A5.31,5.31,0,0,0,4.9,8.1,5.31,5.31,0,0,0,1,6.5,5.31,5.31,0,0,0,4.9,4.9,5.31,5.31,0,0,0,6.5,1,5.31,5.31,0,0,0,8.1,4.9,5.31,5.31,0,0,0,12,6.5,5.46,5.46,0,0,0,6.5,12Z\"/>\n",
              "  </svg>\n",
              "    </button>\n",
              "    <script>\n",
              "      (() => {\n",
              "      const buttonEl =\n",
              "        document.querySelector('#id_07a7ab30-52f5-4492-8b98-215b3760540a button.colab-df-generate');\n",
              "      buttonEl.style.display =\n",
              "        google.colab.kernel.accessAllowed ? 'block' : 'none';\n",
              "\n",
              "      buttonEl.onclick = () => {\n",
              "        google.colab.notebook.generateWithVariable('data');\n",
              "      }\n",
              "      })();\n",
              "    </script>\n",
              "  </div>\n",
              "\n",
              "    </div>\n",
              "  </div>\n"
            ],
            "application/vnd.google.colaboratory.intrinsic+json": {
              "type": "dataframe",
              "variable_name": "data"
            }
          },
          "metadata": {},
          "execution_count": 4
        }
      ]
    },
    {
      "cell_type": "code",
      "source": [
        "data.shape\n",
        "# 컬럼 정보\n",
        "# 문제 데이터 / 독립 변수 - 20개(price를 제외한 나머지 컬럼)\n",
        "# 정답 데이터 / 종속 변수 - 1개(price)"
      ],
      "metadata": {
        "collapsed": true,
        "id": "VjPvzFYWzggW",
        "colab": {
          "base_uri": "https://localhost:8080/"
        },
        "outputId": "64b44024-e69a-4263-8cc4-87a19d58001e"
      },
      "execution_count": 5,
      "outputs": [
        {
          "output_type": "execute_result",
          "data": {
            "text/plain": [
              "(13580, 21)"
            ]
          },
          "metadata": {},
          "execution_count": 5
        }
      ]
    },
    {
      "cell_type": "markdown",
      "source": [
        "| 컬럼명        | 설명                                                                 |\n",
        "|---------------|----------------------------------------------------------------------|\n",
        "| Suburb        | 주택이 위치한 교외 지역의 이름                                         |\n",
        "| Address       | 주택의 주소                                                          |\n",
        "| Rooms         | 주택의 방 개수                                                       |\n",
        "| Type          | 주택 유형 (h: 주택, u: 유닛, t: 타운하우스)                           |\n",
        "| Price         | 주택 가격(호주 달러)                                                            |\n",
        "| Method        | 판매 방법 (S: 매매, SP: 매매 후 가격 공개, PI: 경매 전에 가격, VB: 경매 후 가격 공개) |\n",
        "| SellerG       | 판매 대행 부동산 중개인의 이름                                        |\n",
        "| Date          | 판매 날짜                                                            |\n",
        "| Distance      | 주택이 CBD (중심 업무 지구)에서 떨어진 거리 (킬로미터 단위)            |\n",
        "| Postcode      | 우편번호                                                             |\n",
        "| Bedroom2      | 주택의 침실 개수 (2개의 침실을 갖춘 주택)                             |\n",
        "| Bathroom      | 주택의 욕실 개수                                                     |\n",
        "| Car           | 주차 가능한 자동차 수                                                |\n",
        "| Landsize      | 대지 면적 (평방 미터 단위)                                           |\n",
        "| BuildingArea  | 건축 면적 (평방 미터 단위)                                           |\n",
        "| YearBuilt     | 주택이 건축된 연도                                                   |\n",
        "| CouncilArea   | 관할 구역                                                           |\n",
        "| Lattitude     | 주택의 위도                                                          |\n",
        "| Longtitude    | 주택의 경도                                                          |\n",
        "| Regionname    | 지역 이름                                                            |\n",
        "| Propertycount | 지역 내의 부동산 개수                                                |\n"
      ],
      "metadata": {
        "id": "rCjMSRb9zgd-"
      }
    },
    {
      "cell_type": "code",
      "source": [
        "# 결측치 확인\n",
        "data.info()"
      ],
      "metadata": {
        "id": "yLqN7Lxvzgbe",
        "colab": {
          "base_uri": "https://localhost:8080/"
        },
        "outputId": "9826f511-7e47-4b63-be9c-47b794214dda"
      },
      "execution_count": 6,
      "outputs": [
        {
          "output_type": "stream",
          "name": "stdout",
          "text": [
            "<class 'pandas.core.frame.DataFrame'>\n",
            "RangeIndex: 13580 entries, 0 to 13579\n",
            "Data columns (total 21 columns):\n",
            " #   Column         Non-Null Count  Dtype  \n",
            "---  ------         --------------  -----  \n",
            " 0   Suburb         13580 non-null  object \n",
            " 1   Address        13580 non-null  object \n",
            " 2   Rooms          13580 non-null  int64  \n",
            " 3   Type           13580 non-null  object \n",
            " 4   Price          13580 non-null  float64\n",
            " 5   Method         13580 non-null  object \n",
            " 6   SellerG        13580 non-null  object \n",
            " 7   Date           13580 non-null  object \n",
            " 8   Distance       13580 non-null  float64\n",
            " 9   Postcode       13580 non-null  float64\n",
            " 10  Bedroom2       13580 non-null  float64\n",
            " 11  Bathroom       13580 non-null  float64\n",
            " 12  Car            13518 non-null  float64\n",
            " 13  Landsize       13580 non-null  float64\n",
            " 14  BuildingArea   7130 non-null   float64\n",
            " 15  YearBuilt      8205 non-null   float64\n",
            " 16  CouncilArea    12211 non-null  object \n",
            " 17  Lattitude      13580 non-null  float64\n",
            " 18  Longtitude     13580 non-null  float64\n",
            " 19  Regionname     13580 non-null  object \n",
            " 20  Propertycount  13580 non-null  float64\n",
            "dtypes: float64(12), int64(1), object(8)\n",
            "memory usage: 2.2+ MB\n"
          ]
        }
      ]
    },
    {
      "cell_type": "code",
      "source": [
        "# 결측치가 있는 특성 확인\n",
        "# sort_values() : value값을 기준으로 정렬을 해줘라!\n",
        "# ascending : 오름차순 / 내림차순 정리\n",
        "# True - 오름차순 정렬(기본값)\n",
        "# Fales - 내림차순 정렬\n",
        "data.isnull().sum().sort_values(ascending = False)\n",
        "# BuildingArea, YearBuilt, CouncilArea, Car 결측치 존재"
      ],
      "metadata": {
        "id": "Ac1tvCzczgZH",
        "collapsed": true,
        "colab": {
          "base_uri": "https://localhost:8080/",
          "height": 743
        },
        "outputId": "ffcafd06-e51c-402b-f9d6-89aafda9c9c3"
      },
      "execution_count": 7,
      "outputs": [
        {
          "output_type": "execute_result",
          "data": {
            "text/plain": [
              "BuildingArea     6450\n",
              "YearBuilt        5375\n",
              "CouncilArea      1369\n",
              "Car                62\n",
              "Suburb              0\n",
              "Price               0\n",
              "Type                0\n",
              "Rooms               0\n",
              "Address             0\n",
              "Distance            0\n",
              "Method              0\n",
              "Date                0\n",
              "SellerG             0\n",
              "Bathroom            0\n",
              "Bedroom2            0\n",
              "Postcode            0\n",
              "Landsize            0\n",
              "Lattitude           0\n",
              "Longtitude          0\n",
              "Regionname          0\n",
              "Propertycount       0\n",
              "dtype: int64"
            ],
            "text/html": [
              "<div>\n",
              "<style scoped>\n",
              "    .dataframe tbody tr th:only-of-type {\n",
              "        vertical-align: middle;\n",
              "    }\n",
              "\n",
              "    .dataframe tbody tr th {\n",
              "        vertical-align: top;\n",
              "    }\n",
              "\n",
              "    .dataframe thead th {\n",
              "        text-align: right;\n",
              "    }\n",
              "</style>\n",
              "<table border=\"1\" class=\"dataframe\">\n",
              "  <thead>\n",
              "    <tr style=\"text-align: right;\">\n",
              "      <th></th>\n",
              "      <th>0</th>\n",
              "    </tr>\n",
              "  </thead>\n",
              "  <tbody>\n",
              "    <tr>\n",
              "      <th>BuildingArea</th>\n",
              "      <td>6450</td>\n",
              "    </tr>\n",
              "    <tr>\n",
              "      <th>YearBuilt</th>\n",
              "      <td>5375</td>\n",
              "    </tr>\n",
              "    <tr>\n",
              "      <th>CouncilArea</th>\n",
              "      <td>1369</td>\n",
              "    </tr>\n",
              "    <tr>\n",
              "      <th>Car</th>\n",
              "      <td>62</td>\n",
              "    </tr>\n",
              "    <tr>\n",
              "      <th>Suburb</th>\n",
              "      <td>0</td>\n",
              "    </tr>\n",
              "    <tr>\n",
              "      <th>Price</th>\n",
              "      <td>0</td>\n",
              "    </tr>\n",
              "    <tr>\n",
              "      <th>Type</th>\n",
              "      <td>0</td>\n",
              "    </tr>\n",
              "    <tr>\n",
              "      <th>Rooms</th>\n",
              "      <td>0</td>\n",
              "    </tr>\n",
              "    <tr>\n",
              "      <th>Address</th>\n",
              "      <td>0</td>\n",
              "    </tr>\n",
              "    <tr>\n",
              "      <th>Distance</th>\n",
              "      <td>0</td>\n",
              "    </tr>\n",
              "    <tr>\n",
              "      <th>Method</th>\n",
              "      <td>0</td>\n",
              "    </tr>\n",
              "    <tr>\n",
              "      <th>Date</th>\n",
              "      <td>0</td>\n",
              "    </tr>\n",
              "    <tr>\n",
              "      <th>SellerG</th>\n",
              "      <td>0</td>\n",
              "    </tr>\n",
              "    <tr>\n",
              "      <th>Bathroom</th>\n",
              "      <td>0</td>\n",
              "    </tr>\n",
              "    <tr>\n",
              "      <th>Bedroom2</th>\n",
              "      <td>0</td>\n",
              "    </tr>\n",
              "    <tr>\n",
              "      <th>Postcode</th>\n",
              "      <td>0</td>\n",
              "    </tr>\n",
              "    <tr>\n",
              "      <th>Landsize</th>\n",
              "      <td>0</td>\n",
              "    </tr>\n",
              "    <tr>\n",
              "      <th>Lattitude</th>\n",
              "      <td>0</td>\n",
              "    </tr>\n",
              "    <tr>\n",
              "      <th>Longtitude</th>\n",
              "      <td>0</td>\n",
              "    </tr>\n",
              "    <tr>\n",
              "      <th>Regionname</th>\n",
              "      <td>0</td>\n",
              "    </tr>\n",
              "    <tr>\n",
              "      <th>Propertycount</th>\n",
              "      <td>0</td>\n",
              "    </tr>\n",
              "  </tbody>\n",
              "</table>\n",
              "</div><br><label><b>dtype:</b> int64</label>"
            ]
          },
          "metadata": {},
          "execution_count": 7
        }
      ]
    },
    {
      "cell_type": "code",
      "source": [
        "# 부동소수점 형태의 데이터를 일반숫자로 설정\n",
        "pd.options.display.float_format = '{:,.2f}'.format"
      ],
      "metadata": {
        "id": "ZifELGoRzgWe"
      },
      "execution_count": 8,
      "outputs": []
    },
    {
      "cell_type": "code",
      "source": [
        "# 기술통계량 확인\n",
        "data.describe().T"
      ],
      "metadata": {
        "id": "Tj10AghOzgUG",
        "colab": {
          "base_uri": "https://localhost:8080/",
          "height": 477
        },
        "outputId": "7ddf5b0a-9d49-4e30-a6a1-34c215101024"
      },
      "execution_count": 11,
      "outputs": [
        {
          "output_type": "execute_result",
          "data": {
            "text/plain": [
              "                  count         mean        std       min        25%  \\\n",
              "Rooms         13,580.00         2.94       0.96      1.00       2.00   \n",
              "Price         13,580.00 1,075,684.08 639,310.72 85,000.00 650,000.00   \n",
              "Distance      13,580.00        10.14       5.87      0.00       6.10   \n",
              "Postcode      13,580.00     3,105.30      90.68  3,000.00   3,044.00   \n",
              "Bedroom2      13,580.00         2.91       0.97      0.00       2.00   \n",
              "Bathroom      13,580.00         1.53       0.69      0.00       1.00   \n",
              "Car           13,518.00         1.61       0.96      0.00       1.00   \n",
              "Landsize      13,580.00       558.42   3,990.67      0.00     177.00   \n",
              "BuildingArea   7,130.00       151.97     541.01      0.00      93.00   \n",
              "YearBuilt      8,205.00     1,964.68      37.27  1,196.00   1,940.00   \n",
              "Lattitude     13,580.00       -37.81       0.08    -38.18     -37.86   \n",
              "Longtitude    13,580.00       145.00       0.10    144.43     144.93   \n",
              "Propertycount 13,580.00     7,454.42   4,378.58    249.00   4,380.00   \n",
              "\n",
              "                     50%          75%          max  \n",
              "Rooms               3.00         3.00        10.00  \n",
              "Price         903,000.00 1,330,000.00 9,000,000.00  \n",
              "Distance            9.20        13.00        48.10  \n",
              "Postcode        3,084.00     3,148.00     3,977.00  \n",
              "Bedroom2            3.00         3.00        20.00  \n",
              "Bathroom            1.00         2.00         8.00  \n",
              "Car                 2.00         2.00        10.00  \n",
              "Landsize          440.00       651.00   433,014.00  \n",
              "BuildingArea      126.00       174.00    44,515.00  \n",
              "YearBuilt       1,970.00     1,999.00     2,018.00  \n",
              "Lattitude         -37.80       -37.76       -37.41  \n",
              "Longtitude        145.00       145.06       145.53  \n",
              "Propertycount   6,555.00    10,331.00    21,650.00  "
            ],
            "text/html": [
              "\n",
              "  <div id=\"df-02e92748-e7f1-4b71-95a4-451159acae9f\" class=\"colab-df-container\">\n",
              "    <div>\n",
              "<style scoped>\n",
              "    .dataframe tbody tr th:only-of-type {\n",
              "        vertical-align: middle;\n",
              "    }\n",
              "\n",
              "    .dataframe tbody tr th {\n",
              "        vertical-align: top;\n",
              "    }\n",
              "\n",
              "    .dataframe thead th {\n",
              "        text-align: right;\n",
              "    }\n",
              "</style>\n",
              "<table border=\"1\" class=\"dataframe\">\n",
              "  <thead>\n",
              "    <tr style=\"text-align: right;\">\n",
              "      <th></th>\n",
              "      <th>count</th>\n",
              "      <th>mean</th>\n",
              "      <th>std</th>\n",
              "      <th>min</th>\n",
              "      <th>25%</th>\n",
              "      <th>50%</th>\n",
              "      <th>75%</th>\n",
              "      <th>max</th>\n",
              "    </tr>\n",
              "  </thead>\n",
              "  <tbody>\n",
              "    <tr>\n",
              "      <th>Rooms</th>\n",
              "      <td>13,580.00</td>\n",
              "      <td>2.94</td>\n",
              "      <td>0.96</td>\n",
              "      <td>1.00</td>\n",
              "      <td>2.00</td>\n",
              "      <td>3.00</td>\n",
              "      <td>3.00</td>\n",
              "      <td>10.00</td>\n",
              "    </tr>\n",
              "    <tr>\n",
              "      <th>Price</th>\n",
              "      <td>13,580.00</td>\n",
              "      <td>1,075,684.08</td>\n",
              "      <td>639,310.72</td>\n",
              "      <td>85,000.00</td>\n",
              "      <td>650,000.00</td>\n",
              "      <td>903,000.00</td>\n",
              "      <td>1,330,000.00</td>\n",
              "      <td>9,000,000.00</td>\n",
              "    </tr>\n",
              "    <tr>\n",
              "      <th>Distance</th>\n",
              "      <td>13,580.00</td>\n",
              "      <td>10.14</td>\n",
              "      <td>5.87</td>\n",
              "      <td>0.00</td>\n",
              "      <td>6.10</td>\n",
              "      <td>9.20</td>\n",
              "      <td>13.00</td>\n",
              "      <td>48.10</td>\n",
              "    </tr>\n",
              "    <tr>\n",
              "      <th>Postcode</th>\n",
              "      <td>13,580.00</td>\n",
              "      <td>3,105.30</td>\n",
              "      <td>90.68</td>\n",
              "      <td>3,000.00</td>\n",
              "      <td>3,044.00</td>\n",
              "      <td>3,084.00</td>\n",
              "      <td>3,148.00</td>\n",
              "      <td>3,977.00</td>\n",
              "    </tr>\n",
              "    <tr>\n",
              "      <th>Bedroom2</th>\n",
              "      <td>13,580.00</td>\n",
              "      <td>2.91</td>\n",
              "      <td>0.97</td>\n",
              "      <td>0.00</td>\n",
              "      <td>2.00</td>\n",
              "      <td>3.00</td>\n",
              "      <td>3.00</td>\n",
              "      <td>20.00</td>\n",
              "    </tr>\n",
              "    <tr>\n",
              "      <th>Bathroom</th>\n",
              "      <td>13,580.00</td>\n",
              "      <td>1.53</td>\n",
              "      <td>0.69</td>\n",
              "      <td>0.00</td>\n",
              "      <td>1.00</td>\n",
              "      <td>1.00</td>\n",
              "      <td>2.00</td>\n",
              "      <td>8.00</td>\n",
              "    </tr>\n",
              "    <tr>\n",
              "      <th>Car</th>\n",
              "      <td>13,518.00</td>\n",
              "      <td>1.61</td>\n",
              "      <td>0.96</td>\n",
              "      <td>0.00</td>\n",
              "      <td>1.00</td>\n",
              "      <td>2.00</td>\n",
              "      <td>2.00</td>\n",
              "      <td>10.00</td>\n",
              "    </tr>\n",
              "    <tr>\n",
              "      <th>Landsize</th>\n",
              "      <td>13,580.00</td>\n",
              "      <td>558.42</td>\n",
              "      <td>3,990.67</td>\n",
              "      <td>0.00</td>\n",
              "      <td>177.00</td>\n",
              "      <td>440.00</td>\n",
              "      <td>651.00</td>\n",
              "      <td>433,014.00</td>\n",
              "    </tr>\n",
              "    <tr>\n",
              "      <th>BuildingArea</th>\n",
              "      <td>7,130.00</td>\n",
              "      <td>151.97</td>\n",
              "      <td>541.01</td>\n",
              "      <td>0.00</td>\n",
              "      <td>93.00</td>\n",
              "      <td>126.00</td>\n",
              "      <td>174.00</td>\n",
              "      <td>44,515.00</td>\n",
              "    </tr>\n",
              "    <tr>\n",
              "      <th>YearBuilt</th>\n",
              "      <td>8,205.00</td>\n",
              "      <td>1,964.68</td>\n",
              "      <td>37.27</td>\n",
              "      <td>1,196.00</td>\n",
              "      <td>1,940.00</td>\n",
              "      <td>1,970.00</td>\n",
              "      <td>1,999.00</td>\n",
              "      <td>2,018.00</td>\n",
              "    </tr>\n",
              "    <tr>\n",
              "      <th>Lattitude</th>\n",
              "      <td>13,580.00</td>\n",
              "      <td>-37.81</td>\n",
              "      <td>0.08</td>\n",
              "      <td>-38.18</td>\n",
              "      <td>-37.86</td>\n",
              "      <td>-37.80</td>\n",
              "      <td>-37.76</td>\n",
              "      <td>-37.41</td>\n",
              "    </tr>\n",
              "    <tr>\n",
              "      <th>Longtitude</th>\n",
              "      <td>13,580.00</td>\n",
              "      <td>145.00</td>\n",
              "      <td>0.10</td>\n",
              "      <td>144.43</td>\n",
              "      <td>144.93</td>\n",
              "      <td>145.00</td>\n",
              "      <td>145.06</td>\n",
              "      <td>145.53</td>\n",
              "    </tr>\n",
              "    <tr>\n",
              "      <th>Propertycount</th>\n",
              "      <td>13,580.00</td>\n",
              "      <td>7,454.42</td>\n",
              "      <td>4,378.58</td>\n",
              "      <td>249.00</td>\n",
              "      <td>4,380.00</td>\n",
              "      <td>6,555.00</td>\n",
              "      <td>10,331.00</td>\n",
              "      <td>21,650.00</td>\n",
              "    </tr>\n",
              "  </tbody>\n",
              "</table>\n",
              "</div>\n",
              "    <div class=\"colab-df-buttons\">\n",
              "\n",
              "  <div class=\"colab-df-container\">\n",
              "    <button class=\"colab-df-convert\" onclick=\"convertToInteractive('df-02e92748-e7f1-4b71-95a4-451159acae9f')\"\n",
              "            title=\"Convert this dataframe to an interactive table.\"\n",
              "            style=\"display:none;\">\n",
              "\n",
              "  <svg xmlns=\"http://www.w3.org/2000/svg\" height=\"24px\" viewBox=\"0 -960 960 960\">\n",
              "    <path d=\"M120-120v-720h720v720H120Zm60-500h600v-160H180v160Zm220 220h160v-160H400v160Zm0 220h160v-160H400v160ZM180-400h160v-160H180v160Zm440 0h160v-160H620v160ZM180-180h160v-160H180v160Zm440 0h160v-160H620v160Z\"/>\n",
              "  </svg>\n",
              "    </button>\n",
              "\n",
              "  <style>\n",
              "    .colab-df-container {\n",
              "      display:flex;\n",
              "      gap: 12px;\n",
              "    }\n",
              "\n",
              "    .colab-df-convert {\n",
              "      background-color: #E8F0FE;\n",
              "      border: none;\n",
              "      border-radius: 50%;\n",
              "      cursor: pointer;\n",
              "      display: none;\n",
              "      fill: #1967D2;\n",
              "      height: 32px;\n",
              "      padding: 0 0 0 0;\n",
              "      width: 32px;\n",
              "    }\n",
              "\n",
              "    .colab-df-convert:hover {\n",
              "      background-color: #E2EBFA;\n",
              "      box-shadow: 0px 1px 2px rgba(60, 64, 67, 0.3), 0px 1px 3px 1px rgba(60, 64, 67, 0.15);\n",
              "      fill: #174EA6;\n",
              "    }\n",
              "\n",
              "    .colab-df-buttons div {\n",
              "      margin-bottom: 4px;\n",
              "    }\n",
              "\n",
              "    [theme=dark] .colab-df-convert {\n",
              "      background-color: #3B4455;\n",
              "      fill: #D2E3FC;\n",
              "    }\n",
              "\n",
              "    [theme=dark] .colab-df-convert:hover {\n",
              "      background-color: #434B5C;\n",
              "      box-shadow: 0px 1px 3px 1px rgba(0, 0, 0, 0.15);\n",
              "      filter: drop-shadow(0px 1px 2px rgba(0, 0, 0, 0.3));\n",
              "      fill: #FFFFFF;\n",
              "    }\n",
              "  </style>\n",
              "\n",
              "    <script>\n",
              "      const buttonEl =\n",
              "        document.querySelector('#df-02e92748-e7f1-4b71-95a4-451159acae9f button.colab-df-convert');\n",
              "      buttonEl.style.display =\n",
              "        google.colab.kernel.accessAllowed ? 'block' : 'none';\n",
              "\n",
              "      async function convertToInteractive(key) {\n",
              "        const element = document.querySelector('#df-02e92748-e7f1-4b71-95a4-451159acae9f');\n",
              "        const dataTable =\n",
              "          await google.colab.kernel.invokeFunction('convertToInteractive',\n",
              "                                                    [key], {});\n",
              "        if (!dataTable) return;\n",
              "\n",
              "        const docLinkHtml = 'Like what you see? Visit the ' +\n",
              "          '<a target=\"_blank\" href=https://colab.research.google.com/notebooks/data_table.ipynb>data table notebook</a>'\n",
              "          + ' to learn more about interactive tables.';\n",
              "        element.innerHTML = '';\n",
              "        dataTable['output_type'] = 'display_data';\n",
              "        await google.colab.output.renderOutput(dataTable, element);\n",
              "        const docLink = document.createElement('div');\n",
              "        docLink.innerHTML = docLinkHtml;\n",
              "        element.appendChild(docLink);\n",
              "      }\n",
              "    </script>\n",
              "  </div>\n",
              "\n",
              "\n",
              "    <div id=\"df-61b89a85-77bc-486d-bf8b-3e97a30d9ae6\">\n",
              "      <button class=\"colab-df-quickchart\" onclick=\"quickchart('df-61b89a85-77bc-486d-bf8b-3e97a30d9ae6')\"\n",
              "                title=\"Suggest charts\"\n",
              "                style=\"display:none;\">\n",
              "\n",
              "<svg xmlns=\"http://www.w3.org/2000/svg\" height=\"24px\"viewBox=\"0 0 24 24\"\n",
              "     width=\"24px\">\n",
              "    <g>\n",
              "        <path d=\"M19 3H5c-1.1 0-2 .9-2 2v14c0 1.1.9 2 2 2h14c1.1 0 2-.9 2-2V5c0-1.1-.9-2-2-2zM9 17H7v-7h2v7zm4 0h-2V7h2v10zm4 0h-2v-4h2v4z\"/>\n",
              "    </g>\n",
              "</svg>\n",
              "      </button>\n",
              "\n",
              "<style>\n",
              "  .colab-df-quickchart {\n",
              "      --bg-color: #E8F0FE;\n",
              "      --fill-color: #1967D2;\n",
              "      --hover-bg-color: #E2EBFA;\n",
              "      --hover-fill-color: #174EA6;\n",
              "      --disabled-fill-color: #AAA;\n",
              "      --disabled-bg-color: #DDD;\n",
              "  }\n",
              "\n",
              "  [theme=dark] .colab-df-quickchart {\n",
              "      --bg-color: #3B4455;\n",
              "      --fill-color: #D2E3FC;\n",
              "      --hover-bg-color: #434B5C;\n",
              "      --hover-fill-color: #FFFFFF;\n",
              "      --disabled-bg-color: #3B4455;\n",
              "      --disabled-fill-color: #666;\n",
              "  }\n",
              "\n",
              "  .colab-df-quickchart {\n",
              "    background-color: var(--bg-color);\n",
              "    border: none;\n",
              "    border-radius: 50%;\n",
              "    cursor: pointer;\n",
              "    display: none;\n",
              "    fill: var(--fill-color);\n",
              "    height: 32px;\n",
              "    padding: 0;\n",
              "    width: 32px;\n",
              "  }\n",
              "\n",
              "  .colab-df-quickchart:hover {\n",
              "    background-color: var(--hover-bg-color);\n",
              "    box-shadow: 0 1px 2px rgba(60, 64, 67, 0.3), 0 1px 3px 1px rgba(60, 64, 67, 0.15);\n",
              "    fill: var(--button-hover-fill-color);\n",
              "  }\n",
              "\n",
              "  .colab-df-quickchart-complete:disabled,\n",
              "  .colab-df-quickchart-complete:disabled:hover {\n",
              "    background-color: var(--disabled-bg-color);\n",
              "    fill: var(--disabled-fill-color);\n",
              "    box-shadow: none;\n",
              "  }\n",
              "\n",
              "  .colab-df-spinner {\n",
              "    border: 2px solid var(--fill-color);\n",
              "    border-color: transparent;\n",
              "    border-bottom-color: var(--fill-color);\n",
              "    animation:\n",
              "      spin 1s steps(1) infinite;\n",
              "  }\n",
              "\n",
              "  @keyframes spin {\n",
              "    0% {\n",
              "      border-color: transparent;\n",
              "      border-bottom-color: var(--fill-color);\n",
              "      border-left-color: var(--fill-color);\n",
              "    }\n",
              "    20% {\n",
              "      border-color: transparent;\n",
              "      border-left-color: var(--fill-color);\n",
              "      border-top-color: var(--fill-color);\n",
              "    }\n",
              "    30% {\n",
              "      border-color: transparent;\n",
              "      border-left-color: var(--fill-color);\n",
              "      border-top-color: var(--fill-color);\n",
              "      border-right-color: var(--fill-color);\n",
              "    }\n",
              "    40% {\n",
              "      border-color: transparent;\n",
              "      border-right-color: var(--fill-color);\n",
              "      border-top-color: var(--fill-color);\n",
              "    }\n",
              "    60% {\n",
              "      border-color: transparent;\n",
              "      border-right-color: var(--fill-color);\n",
              "    }\n",
              "    80% {\n",
              "      border-color: transparent;\n",
              "      border-right-color: var(--fill-color);\n",
              "      border-bottom-color: var(--fill-color);\n",
              "    }\n",
              "    90% {\n",
              "      border-color: transparent;\n",
              "      border-bottom-color: var(--fill-color);\n",
              "    }\n",
              "  }\n",
              "</style>\n",
              "\n",
              "      <script>\n",
              "        async function quickchart(key) {\n",
              "          const quickchartButtonEl =\n",
              "            document.querySelector('#' + key + ' button');\n",
              "          quickchartButtonEl.disabled = true;  // To prevent multiple clicks.\n",
              "          quickchartButtonEl.classList.add('colab-df-spinner');\n",
              "          try {\n",
              "            const charts = await google.colab.kernel.invokeFunction(\n",
              "                'suggestCharts', [key], {});\n",
              "          } catch (error) {\n",
              "            console.error('Error during call to suggestCharts:', error);\n",
              "          }\n",
              "          quickchartButtonEl.classList.remove('colab-df-spinner');\n",
              "          quickchartButtonEl.classList.add('colab-df-quickchart-complete');\n",
              "        }\n",
              "        (() => {\n",
              "          let quickchartButtonEl =\n",
              "            document.querySelector('#df-61b89a85-77bc-486d-bf8b-3e97a30d9ae6 button');\n",
              "          quickchartButtonEl.style.display =\n",
              "            google.colab.kernel.accessAllowed ? 'block' : 'none';\n",
              "        })();\n",
              "      </script>\n",
              "    </div>\n",
              "\n",
              "    </div>\n",
              "  </div>\n"
            ],
            "application/vnd.google.colaboratory.intrinsic+json": {
              "type": "dataframe",
              "summary": "{\n  \"name\": \"data\",\n  \"rows\": 13,\n  \"fields\": [\n    {\n      \"column\": \"count\",\n      \"properties\": {\n        \"dtype\": \"number\",\n        \"std\": 2229.119390344594,\n        \"min\": 7130.0,\n        \"max\": 13580.0,\n        \"num_unique_values\": 4,\n        \"samples\": [\n          13518.0,\n          8205.0,\n          13580.0\n        ],\n        \"semantic_type\": \"\",\n        \"description\": \"\"\n      }\n    },\n    {\n      \"column\": \"mean\",\n      \"properties\": {\n        \"dtype\": \"number\",\n        \"std\": 298039.9028646962,\n        \"min\": -37.80920273343152,\n        \"max\": 1075684.079455081,\n        \"num_unique_values\": 13,\n        \"samples\": [\n          144.99521618777615,\n          1964.6842169408897,\n          2.9379970544919\n        ],\n        \"semantic_type\": \"\",\n        \"description\": \"\"\n      }\n    },\n    {\n      \"column\": \"std\",\n      \"properties\": {\n        \"dtype\": \"number\",\n        \"std\": 177110.49702161475,\n        \"min\": 0.07925982260355424,\n        \"max\": 639310.7242960194,\n        \"num_unique_values\": 13,\n        \"samples\": [\n          0.10391556140737532,\n          37.27376222396049,\n          0.9557479384215886\n        ],\n        \"semantic_type\": \"\",\n        \"description\": \"\"\n      }\n    },\n    {\n      \"column\": \"min\",\n      \"properties\": {\n        \"dtype\": \"number\",\n        \"std\": 23485.140723115517,\n        \"min\": -38.18255,\n        \"max\": 85000.0,\n        \"num_unique_values\": 8,\n        \"samples\": [\n          85000.0,\n          -38.18255,\n          1.0\n        ],\n        \"semantic_type\": \"\",\n        \"description\": \"\"\n      }\n    },\n    {\n      \"column\": \"25%\",\n      \"properties\": {\n        \"dtype\": \"number\",\n        \"std\": 180057.77819477077,\n        \"min\": -37.8568225,\n        \"max\": 650000.0,\n        \"num_unique_values\": 11,\n        \"samples\": [\n          177.0,\n          2.0,\n          144.9296\n        ],\n        \"semantic_type\": \"\",\n        \"description\": \"\"\n      }\n    },\n    {\n      \"column\": \"50%\",\n      \"properties\": {\n        \"dtype\": \"number\",\n        \"std\": 250170.17129026874,\n        \"min\": -37.802355,\n        \"max\": 903000.0,\n        \"num_unique_values\": 12,\n        \"samples\": [\n          145.0001,\n          -37.802355,\n          3.0\n        ],\n        \"semantic_type\": \"\",\n        \"description\": \"\"\n      }\n    },\n    {\n      \"column\": \"75%\",\n      \"properties\": {\n        \"dtype\": \"number\",\n        \"std\": 368506.9653013232,\n        \"min\": -37.7564,\n        \"max\": 1330000.0,\n        \"num_unique_values\": 11,\n        \"samples\": [\n          651.0,\n          3.0,\n          145.05830500000002\n        ],\n        \"semantic_type\": \"\",\n        \"description\": \"\"\n      }\n    },\n    {\n      \"column\": \"max\",\n      \"properties\": {\n        \"dtype\": \"number\",\n        \"std\": 2487297.7464979496,\n        \"min\": -37.40853,\n        \"max\": 9000000.0,\n        \"num_unique_values\": 12,\n        \"samples\": [\n          145.52635,\n          -37.40853,\n          10.0\n        ],\n        \"semantic_type\": \"\",\n        \"description\": \"\"\n      }\n    }\n  ]\n}"
            }
          },
          "metadata": {},
          "execution_count": 11
        }
      ]
    },
    {
      "cell_type": "markdown",
      "source": [
        "### EDA 탐색적 데이터 분석"
      ],
      "metadata": {
        "id": "4yVwzOoZzgRt"
      }
    },
    {
      "cell_type": "markdown",
      "source": [
        "- 주택 타입별 가격 확인"
      ],
      "metadata": {
        "id": "8LFSws43zgPW"
      }
    },
    {
      "cell_type": "code",
      "source": [
        "data['Type'].unique()\n",
        "# h : 주택\n",
        "# u : 유닛\n",
        "# t : 타운하우스"
      ],
      "metadata": {
        "id": "yT8RIx8vzgM-",
        "colab": {
          "base_uri": "https://localhost:8080/"
        },
        "outputId": "c8a054a1-4087-46e9-fdd5-f35f8b93e662"
      },
      "execution_count": 12,
      "outputs": [
        {
          "output_type": "execute_result",
          "data": {
            "text/plain": [
              "array(['h', 'u', 't'], dtype=object)"
            ]
          },
          "metadata": {},
          "execution_count": 12
        }
      ]
    },
    {
      "cell_type": "code",
      "source": [
        "# 주택 타입별 가격 평균 확인 -> groupby\n",
        "data[['Type', 'Price']].groupby(['Type']).mean()"
      ],
      "metadata": {
        "id": "0Uk-MrUnzgKe",
        "colab": {
          "base_uri": "https://localhost:8080/",
          "height": 175
        },
        "outputId": "8fe9bb0f-28f2-449b-e179-0faff271c9e7"
      },
      "execution_count": 14,
      "outputs": [
        {
          "output_type": "execute_result",
          "data": {
            "text/plain": [
              "            Price\n",
              "Type             \n",
              "h    1,242,664.76\n",
              "t      933,735.05\n",
              "u      605,127.48"
            ],
            "text/html": [
              "\n",
              "  <div id=\"df-bf795737-6b30-4d6b-93a3-e43ea2fbab93\" class=\"colab-df-container\">\n",
              "    <div>\n",
              "<style scoped>\n",
              "    .dataframe tbody tr th:only-of-type {\n",
              "        vertical-align: middle;\n",
              "    }\n",
              "\n",
              "    .dataframe tbody tr th {\n",
              "        vertical-align: top;\n",
              "    }\n",
              "\n",
              "    .dataframe thead th {\n",
              "        text-align: right;\n",
              "    }\n",
              "</style>\n",
              "<table border=\"1\" class=\"dataframe\">\n",
              "  <thead>\n",
              "    <tr style=\"text-align: right;\">\n",
              "      <th></th>\n",
              "      <th>Price</th>\n",
              "    </tr>\n",
              "    <tr>\n",
              "      <th>Type</th>\n",
              "      <th></th>\n",
              "    </tr>\n",
              "  </thead>\n",
              "  <tbody>\n",
              "    <tr>\n",
              "      <th>h</th>\n",
              "      <td>1,242,664.76</td>\n",
              "    </tr>\n",
              "    <tr>\n",
              "      <th>t</th>\n",
              "      <td>933,735.05</td>\n",
              "    </tr>\n",
              "    <tr>\n",
              "      <th>u</th>\n",
              "      <td>605,127.48</td>\n",
              "    </tr>\n",
              "  </tbody>\n",
              "</table>\n",
              "</div>\n",
              "    <div class=\"colab-df-buttons\">\n",
              "\n",
              "  <div class=\"colab-df-container\">\n",
              "    <button class=\"colab-df-convert\" onclick=\"convertToInteractive('df-bf795737-6b30-4d6b-93a3-e43ea2fbab93')\"\n",
              "            title=\"Convert this dataframe to an interactive table.\"\n",
              "            style=\"display:none;\">\n",
              "\n",
              "  <svg xmlns=\"http://www.w3.org/2000/svg\" height=\"24px\" viewBox=\"0 -960 960 960\">\n",
              "    <path d=\"M120-120v-720h720v720H120Zm60-500h600v-160H180v160Zm220 220h160v-160H400v160Zm0 220h160v-160H400v160ZM180-400h160v-160H180v160Zm440 0h160v-160H620v160ZM180-180h160v-160H180v160Zm440 0h160v-160H620v160Z\"/>\n",
              "  </svg>\n",
              "    </button>\n",
              "\n",
              "  <style>\n",
              "    .colab-df-container {\n",
              "      display:flex;\n",
              "      gap: 12px;\n",
              "    }\n",
              "\n",
              "    .colab-df-convert {\n",
              "      background-color: #E8F0FE;\n",
              "      border: none;\n",
              "      border-radius: 50%;\n",
              "      cursor: pointer;\n",
              "      display: none;\n",
              "      fill: #1967D2;\n",
              "      height: 32px;\n",
              "      padding: 0 0 0 0;\n",
              "      width: 32px;\n",
              "    }\n",
              "\n",
              "    .colab-df-convert:hover {\n",
              "      background-color: #E2EBFA;\n",
              "      box-shadow: 0px 1px 2px rgba(60, 64, 67, 0.3), 0px 1px 3px 1px rgba(60, 64, 67, 0.15);\n",
              "      fill: #174EA6;\n",
              "    }\n",
              "\n",
              "    .colab-df-buttons div {\n",
              "      margin-bottom: 4px;\n",
              "    }\n",
              "\n",
              "    [theme=dark] .colab-df-convert {\n",
              "      background-color: #3B4455;\n",
              "      fill: #D2E3FC;\n",
              "    }\n",
              "\n",
              "    [theme=dark] .colab-df-convert:hover {\n",
              "      background-color: #434B5C;\n",
              "      box-shadow: 0px 1px 3px 1px rgba(0, 0, 0, 0.15);\n",
              "      filter: drop-shadow(0px 1px 2px rgba(0, 0, 0, 0.3));\n",
              "      fill: #FFFFFF;\n",
              "    }\n",
              "  </style>\n",
              "\n",
              "    <script>\n",
              "      const buttonEl =\n",
              "        document.querySelector('#df-bf795737-6b30-4d6b-93a3-e43ea2fbab93 button.colab-df-convert');\n",
              "      buttonEl.style.display =\n",
              "        google.colab.kernel.accessAllowed ? 'block' : 'none';\n",
              "\n",
              "      async function convertToInteractive(key) {\n",
              "        const element = document.querySelector('#df-bf795737-6b30-4d6b-93a3-e43ea2fbab93');\n",
              "        const dataTable =\n",
              "          await google.colab.kernel.invokeFunction('convertToInteractive',\n",
              "                                                    [key], {});\n",
              "        if (!dataTable) return;\n",
              "\n",
              "        const docLinkHtml = 'Like what you see? Visit the ' +\n",
              "          '<a target=\"_blank\" href=https://colab.research.google.com/notebooks/data_table.ipynb>data table notebook</a>'\n",
              "          + ' to learn more about interactive tables.';\n",
              "        element.innerHTML = '';\n",
              "        dataTable['output_type'] = 'display_data';\n",
              "        await google.colab.output.renderOutput(dataTable, element);\n",
              "        const docLink = document.createElement('div');\n",
              "        docLink.innerHTML = docLinkHtml;\n",
              "        element.appendChild(docLink);\n",
              "      }\n",
              "    </script>\n",
              "  </div>\n",
              "\n",
              "\n",
              "    <div id=\"df-9e624ea3-1891-4419-bb55-46b011ec5b30\">\n",
              "      <button class=\"colab-df-quickchart\" onclick=\"quickchart('df-9e624ea3-1891-4419-bb55-46b011ec5b30')\"\n",
              "                title=\"Suggest charts\"\n",
              "                style=\"display:none;\">\n",
              "\n",
              "<svg xmlns=\"http://www.w3.org/2000/svg\" height=\"24px\"viewBox=\"0 0 24 24\"\n",
              "     width=\"24px\">\n",
              "    <g>\n",
              "        <path d=\"M19 3H5c-1.1 0-2 .9-2 2v14c0 1.1.9 2 2 2h14c1.1 0 2-.9 2-2V5c0-1.1-.9-2-2-2zM9 17H7v-7h2v7zm4 0h-2V7h2v10zm4 0h-2v-4h2v4z\"/>\n",
              "    </g>\n",
              "</svg>\n",
              "      </button>\n",
              "\n",
              "<style>\n",
              "  .colab-df-quickchart {\n",
              "      --bg-color: #E8F0FE;\n",
              "      --fill-color: #1967D2;\n",
              "      --hover-bg-color: #E2EBFA;\n",
              "      --hover-fill-color: #174EA6;\n",
              "      --disabled-fill-color: #AAA;\n",
              "      --disabled-bg-color: #DDD;\n",
              "  }\n",
              "\n",
              "  [theme=dark] .colab-df-quickchart {\n",
              "      --bg-color: #3B4455;\n",
              "      --fill-color: #D2E3FC;\n",
              "      --hover-bg-color: #434B5C;\n",
              "      --hover-fill-color: #FFFFFF;\n",
              "      --disabled-bg-color: #3B4455;\n",
              "      --disabled-fill-color: #666;\n",
              "  }\n",
              "\n",
              "  .colab-df-quickchart {\n",
              "    background-color: var(--bg-color);\n",
              "    border: none;\n",
              "    border-radius: 50%;\n",
              "    cursor: pointer;\n",
              "    display: none;\n",
              "    fill: var(--fill-color);\n",
              "    height: 32px;\n",
              "    padding: 0;\n",
              "    width: 32px;\n",
              "  }\n",
              "\n",
              "  .colab-df-quickchart:hover {\n",
              "    background-color: var(--hover-bg-color);\n",
              "    box-shadow: 0 1px 2px rgba(60, 64, 67, 0.3), 0 1px 3px 1px rgba(60, 64, 67, 0.15);\n",
              "    fill: var(--button-hover-fill-color);\n",
              "  }\n",
              "\n",
              "  .colab-df-quickchart-complete:disabled,\n",
              "  .colab-df-quickchart-complete:disabled:hover {\n",
              "    background-color: var(--disabled-bg-color);\n",
              "    fill: var(--disabled-fill-color);\n",
              "    box-shadow: none;\n",
              "  }\n",
              "\n",
              "  .colab-df-spinner {\n",
              "    border: 2px solid var(--fill-color);\n",
              "    border-color: transparent;\n",
              "    border-bottom-color: var(--fill-color);\n",
              "    animation:\n",
              "      spin 1s steps(1) infinite;\n",
              "  }\n",
              "\n",
              "  @keyframes spin {\n",
              "    0% {\n",
              "      border-color: transparent;\n",
              "      border-bottom-color: var(--fill-color);\n",
              "      border-left-color: var(--fill-color);\n",
              "    }\n",
              "    20% {\n",
              "      border-color: transparent;\n",
              "      border-left-color: var(--fill-color);\n",
              "      border-top-color: var(--fill-color);\n",
              "    }\n",
              "    30% {\n",
              "      border-color: transparent;\n",
              "      border-left-color: var(--fill-color);\n",
              "      border-top-color: var(--fill-color);\n",
              "      border-right-color: var(--fill-color);\n",
              "    }\n",
              "    40% {\n",
              "      border-color: transparent;\n",
              "      border-right-color: var(--fill-color);\n",
              "      border-top-color: var(--fill-color);\n",
              "    }\n",
              "    60% {\n",
              "      border-color: transparent;\n",
              "      border-right-color: var(--fill-color);\n",
              "    }\n",
              "    80% {\n",
              "      border-color: transparent;\n",
              "      border-right-color: var(--fill-color);\n",
              "      border-bottom-color: var(--fill-color);\n",
              "    }\n",
              "    90% {\n",
              "      border-color: transparent;\n",
              "      border-bottom-color: var(--fill-color);\n",
              "    }\n",
              "  }\n",
              "</style>\n",
              "\n",
              "      <script>\n",
              "        async function quickchart(key) {\n",
              "          const quickchartButtonEl =\n",
              "            document.querySelector('#' + key + ' button');\n",
              "          quickchartButtonEl.disabled = true;  // To prevent multiple clicks.\n",
              "          quickchartButtonEl.classList.add('colab-df-spinner');\n",
              "          try {\n",
              "            const charts = await google.colab.kernel.invokeFunction(\n",
              "                'suggestCharts', [key], {});\n",
              "          } catch (error) {\n",
              "            console.error('Error during call to suggestCharts:', error);\n",
              "          }\n",
              "          quickchartButtonEl.classList.remove('colab-df-spinner');\n",
              "          quickchartButtonEl.classList.add('colab-df-quickchart-complete');\n",
              "        }\n",
              "        (() => {\n",
              "          let quickchartButtonEl =\n",
              "            document.querySelector('#df-9e624ea3-1891-4419-bb55-46b011ec5b30 button');\n",
              "          quickchartButtonEl.style.display =\n",
              "            google.colab.kernel.accessAllowed ? 'block' : 'none';\n",
              "        })();\n",
              "      </script>\n",
              "    </div>\n",
              "\n",
              "    </div>\n",
              "  </div>\n"
            ],
            "application/vnd.google.colaboratory.intrinsic+json": {
              "type": "dataframe",
              "summary": "{\n  \"name\": \"data[['Type', 'Price']]\",\n  \"rows\": 3,\n  \"fields\": [\n    {\n      \"column\": \"Type\",\n      \"properties\": {\n        \"dtype\": \"string\",\n        \"num_unique_values\": 3,\n        \"samples\": [\n          \"h\",\n          \"t\",\n          \"u\"\n        ],\n        \"semantic_type\": \"\",\n        \"description\": \"\"\n      }\n    },\n    {\n      \"column\": \"Price\",\n      \"properties\": {\n        \"dtype\": \"number\",\n        \"std\": 318819.24806364323,\n        \"min\": 605127.4845873384,\n        \"max\": 1242664.761138745,\n        \"num_unique_values\": 3,\n        \"samples\": [\n          1242664.761138745,\n          933735.0538599641,\n          605127.4845873384\n        ],\n        \"semantic_type\": \"\",\n        \"description\": \"\"\n      }\n    }\n  ]\n}"
            }
          },
          "metadata": {},
          "execution_count": 14
        }
      ]
    },
    {
      "cell_type": "code",
      "source": [
        "# 시각화\n",
        "data[['Type', 'Price']].groupby(['Type']).mean().plot(kind = 'bar')\n",
        "plt.xticks(rotation = 0)\n",
        "plt.show()"
      ],
      "metadata": {
        "id": "NkF5uivfzgCm",
        "colab": {
          "base_uri": "https://localhost:8080/",
          "height": 465
        },
        "outputId": "2b22bb6c-19f6-4d1e-b65d-609bd2d17ef9"
      },
      "execution_count": 15,
      "outputs": [
        {
          "output_type": "display_data",
          "data": {
            "text/plain": [
              "<Figure size 640x480 with 1 Axes>"
            ],
            "image/png": "[encoded data removed]"
          },
          "metadata": {}
        }
      ]
    },
    {
      "cell_type": "markdown",
      "source": [
        "- 방의 개수에 따른 가격"
      ],
      "metadata": {
        "id": "IGnVsQqeaXY2"
      }
    },
    {
      "cell_type": "code",
      "source": [
        "plt.figure(figsize = (10, 6))\n",
        "sns.boxplot(x = 'Rooms', y = 'Price', data = data) # 박스플롯 / 윗수염아랫수염 그래프 - 사분위수 / 중앙값 / 평균값\n",
        "plt.show()\n",
        "# 방의 갯수가 5개까지는 계속해서 가격 증가\n",
        "# 방 갯수 6개 부터는 가격에 영향을 미치지 않는다 -> 값이 떨어지고 있다.\n",
        "# 현재 데이터 특성 -> 이상치 상대적으로 많음. -> 이상치 처리를 할 수없는 데이터\n",
        "# 호주 멜버른 실제 집값을 데이터로 넣어둔 부분임. 집값의 이상치를 잡을시 실제 집값을 제대로 표현할 수 없다\n",
        "# 현재 데이터를 그려주는 그래프는 이상치를 판단하기보다 분포를 보는데 활용하자."
      ],
      "metadata": {
        "id": "0j9e0-araXVQ",
        "colab": {
          "base_uri": "https://localhost:8080/",
          "height": 557
        },
        "outputId": "c9767b5d-846c-4810-b90f-28ac33187216"
      },
      "execution_count": 16,
      "outputs": [
        {
          "output_type": "display_data",
          "data": {
            "text/plain": [
              "<Figure size 1000x600 with 1 Axes>"
            ],
            "image/png": "[encoded data removed]"
          },
          "metadata": {}
        }
      ]
    },
    {
      "cell_type": "code",
      "source": [],
      "metadata": {
        "id": "mMMAjjBDaXTH"
      },
      "execution_count": null,
      "outputs": []
    },
    {
      "cell_type": "markdown",
      "source": [
        "- pairplot 그래프 구조\n",
        "  - 대각선: 변수의 히스토그램 -> 변수의 분포 확인\n",
        "  - 나머지: 변수 간의 산점도가 위치 -> 두변수간의 분포 확인"
      ],
      "metadata": {
        "id": "4mF9UxWQlxZz"
      }
    },
    {
      "cell_type": "code",
      "source": [],
      "metadata": {
        "id": "_yRLXh0SaXRH"
      },
      "execution_count": null,
      "outputs": []
    },
    {
      "cell_type": "markdown",
      "source": [
        "- 산점도 분석결과\n",
        "  - Rooms: 방의 개수가 많을수록 가격이 증가 -> 양의 상관관계\n",
        "  - Bedroom2 : 침실의 개수가 많을수록 가격도 증가 -> 방의 개수 보다는 크게 영향력을 미치는 편이 아님\n",
        "  - Lattitude: -37.8 부근에 가까울수록 가격이 높은 경향 -> 위도가 낮아질수록 가격도 낮아지는 경향\n",
        "  - Distance : 거리가 증가할수록 가격은 감소하는 경향 (음의상관관계), 중심지에서 가까운 주택이 높은가격 유지"
      ],
      "metadata": {
        "id": "1RPQjHAenTVT"
      }
    },
    {
      "cell_type": "markdown",
      "source": [
        "- 주의\n",
        "  - 다중공선성: 독립변수간에 높은 상관관계를 가지는 경우 -> 회귀분석의 모델링에서 문제발생 가능성이 있음\n",
        "  - 회귀분석 및 선형모델에서는 독립변수들이 서로 독립적일수록 결과를 도출하기가 쉬움"
      ],
      "metadata": {
        "id": "7Ak52645pDNj"
      }
    },
    {
      "cell_type": "code",
      "source": [],
      "metadata": {
        "id": "s1YUpLd8aXMn"
      },
      "execution_count": null,
      "outputs": []
    },
    {
      "cell_type": "code",
      "source": [],
      "metadata": {
        "id": "hcaIU0klaXKW"
      },
      "execution_count": null,
      "outputs": []
    },
    {
      "cell_type": "code",
      "source": [],
      "metadata": {
        "id": "YgYfs1ECaXGf"
      },
      "execution_count": null,
      "outputs": []
    },
    {
      "cell_type": "markdown",
      "source": [
        "- 결측치 처리하기"
      ],
      "metadata": {
        "id": "USzt9Qf9aXEG"
      }
    },
    {
      "cell_type": "code",
      "source": [],
      "metadata": {
        "collapsed": true,
        "id": "aX39_n56aXB2"
      },
      "execution_count": null,
      "outputs": []
    },
    {
      "cell_type": "code",
      "source": [],
      "metadata": {
        "id": "f5_j43mSaW_-"
      },
      "execution_count": null,
      "outputs": []
    },
    {
      "cell_type": "code",
      "source": [],
      "metadata": {
        "collapsed": true,
        "id": "7kHhMjRqaW9_"
      },
      "execution_count": null,
      "outputs": []
    },
    {
      "cell_type": "code",
      "source": [],
      "metadata": {
        "id": "tigCQzgLaW7X"
      },
      "execution_count": null,
      "outputs": []
    },
    {
      "cell_type": "code",
      "source": [],
      "metadata": {
        "id": "8RzeGf7gaW42"
      },
      "execution_count": null,
      "outputs": []
    },
    {
      "cell_type": "markdown",
      "source": [
        "1. 위도경도 데이터를 통해서 비슷한 위치 -> 비슷한 관할구역? 추론\n",
        "2. 우편번호\n",
        "3. 중개인이름\n",
        "4. 지역이름\n",
        "5. Suburb\n",
        "  - 소규모 도시 내에 특정 동네\n",
        "  - 주택시장 -> 지역을 구분하거나 설명할때 사용되는 가장 세분화된 단위중 하나"
      ],
      "metadata": {
        "id": "__yY9JxOtSso"
      }
    },
    {
      "cell_type": "code",
      "source": [],
      "metadata": {
        "id": "-IQyDsUftSqs"
      },
      "execution_count": null,
      "outputs": []
    },
    {
      "cell_type": "markdown",
      "source": [
        "![image.png](data:image/png;base64,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)"
      ],
      "metadata": {
        "id": "oiOP60AKtSoB"
      }
    },
    {
      "cell_type": "code",
      "source": [],
      "metadata": {
        "id": "NbayxYUmtSmj"
      },
      "execution_count": null,
      "outputs": []
    },
    {
      "cell_type": "code",
      "source": [],
      "metadata": {
        "id": "8iw_ufJ1tSkS"
      },
      "execution_count": null,
      "outputs": []
    },
    {
      "cell_type": "markdown",
      "source": [
        "#### 결측치를 채우는 방법\n",
        "1. 컬럼 삭제\n",
        "  - 결측치의 비율이 높을때\n",
        "  - 컬럼의 특성이 정답에 영향을 적게 미칠때\n",
        "2. 기술통계량을 통한 채우기\n",
        "  - 평균, 중앙값, 최빈값\n",
        "3. 특수값으로 대체\n",
        "  - 결측치 자체가 의미를 가지는 경우 -> 특수값으로 대체 후 정답과의 상관관계 파악\n",
        "4. 다른 컬럼과의 연관성 파악 -> 데이터 유추"
      ],
      "metadata": {
        "id": "RjLUmTlD2172"
      }
    },
    {
      "cell_type": "code",
      "source": [],
      "metadata": {
        "id": "ki2djBTStSia"
      },
      "execution_count": null,
      "outputs": []
    },
    {
      "cell_type": "code",
      "source": [],
      "metadata": {
        "id": "XTgdd3DxtSgR"
      },
      "execution_count": null,
      "outputs": []
    },
    {
      "cell_type": "markdown",
      "source": [],
      "metadata": {
        "id": "1V3EdPUsB2Xa"
      }
    },
    {
      "cell_type": "code",
      "source": [],
      "metadata": {
        "id": "VOfRSbnUtScI"
      },
      "execution_count": null,
      "outputs": []
    },
    {
      "cell_type": "code",
      "source": [],
      "metadata": {
        "id": "WlG_qkSztSaZ"
      },
      "execution_count": null,
      "outputs": []
    },
    {
      "cell_type": "code",
      "source": [],
      "metadata": {
        "collapsed": true,
        "id": "EsxL3i5_tSYQ"
      },
      "execution_count": null,
      "outputs": []
    },
    {
      "cell_type": "markdown",
      "source": [
        "- car 컬럼의 결측치 채워보기\n",
        "  - 결측치를 채우기 위한 참고컬럼 설정\n",
        "  - Type, Rooms 컬럼을 활용하여 결측치 채워보자!"
      ],
      "metadata": {
        "id": "8BulwFyLC9hD"
      }
    },
    {
      "cell_type": "code",
      "source": [],
      "metadata": {
        "id": "Tbfk-8gutSWQ"
      },
      "execution_count": null,
      "outputs": []
    },
    {
      "cell_type": "code",
      "source": [],
      "metadata": {
        "collapsed": true,
        "id": "LqJn3PjytSUh"
      },
      "execution_count": null,
      "outputs": []
    },
    {
      "cell_type": "code",
      "source": [],
      "metadata": {
        "id": "505FQG7ftSSQ"
      },
      "execution_count": null,
      "outputs": []
    },
    {
      "cell_type": "code",
      "source": [
        "\n"
      ],
      "metadata": {
        "id": "deLP4x4Hc--B"
      },
      "execution_count": null,
      "outputs": []
    },
    {
      "cell_type": "code",
      "source": [],
      "metadata": {
        "id": "Lp_7-K-vc-4h"
      },
      "execution_count": null,
      "outputs": []
    },
    {
      "cell_type": "code",
      "source": [],
      "metadata": {
        "id": "4c4LjoNHc-2Z"
      },
      "execution_count": null,
      "outputs": []
    },
    {
      "cell_type": "code",
      "source": [],
      "metadata": {
        "id": "tvdOY4bec-0E"
      },
      "execution_count": null,
      "outputs": []
    },
    {
      "cell_type": "code",
      "source": [],
      "metadata": {
        "id": "GW40OS4sc-yB"
      },
      "execution_count": null,
      "outputs": []
    },
    {
      "cell_type": "code",
      "source": [],
      "metadata": {
        "id": "wPC2yEOLc-vq"
      },
      "execution_count": null,
      "outputs": []
    },
    {
      "cell_type": "code",
      "source": [],
      "metadata": {
        "id": "V348ubJgf555"
      },
      "execution_count": null,
      "outputs": []
    },
    {
      "cell_type": "code",
      "source": [],
      "metadata": {
        "collapsed": true,
        "id": "qEWsdAxbf51A"
      },
      "execution_count": null,
      "outputs": []
    },
    {
      "cell_type": "markdown",
      "source": [
        "### 모델링"
      ],
      "metadata": {
        "id": "3P2tkogtf5zS"
      }
    },
    {
      "cell_type": "markdown",
      "source": [
        "- 상관관계를 확인하여 가격에 영향을 많이 미치는 컬럼을 선별"
      ],
      "metadata": {
        "id": "xVLH6QjFgT7d"
      }
    },
    {
      "cell_type": "code",
      "source": [],
      "metadata": {
        "id": "YrpCL5pif5w1"
      },
      "execution_count": null,
      "outputs": []
    },
    {
      "cell_type": "code",
      "source": [],
      "metadata": {
        "id": "wLVxpFUzf5uh"
      },
      "execution_count": null,
      "outputs": []
    },
    {
      "cell_type": "code",
      "source": [],
      "metadata": {
        "id": "JyHw7330f5so"
      },
      "execution_count": null,
      "outputs": []
    },
    {
      "cell_type": "code",
      "source": [],
      "metadata": {
        "id": "Kg601hvmf5qZ"
      },
      "execution_count": null,
      "outputs": []
    },
    {
      "cell_type": "code",
      "source": [],
      "metadata": {
        "id": "CMkz2mk8f5od"
      },
      "execution_count": null,
      "outputs": []
    },
    {
      "cell_type": "markdown",
      "source": [
        "### 데이터 전처리\n",
        "- 문자형 -> 수치형 (인코딩)\n",
        "- 인코딩 방법 2가지\n",
        "  - One-Hot Encoding\n",
        "    - 데이터끼리 우선순위가 없을때 단순 0과1로 수치형변환\n",
        "  - Label Encoding\n",
        "    - 데이터 내에서 우선순위를 주고 싶을때\n",
        "    - ex) 연봉예측시 직급을 수치화할때 (사장,부장, 과장, 대리, 사원) -> 큰숫자를 매핑할수록 우선순위가 높다!"
      ],
      "metadata": {
        "id": "rt3QAHiqf5kJ"
      }
    },
    {
      "cell_type": "code",
      "source": [],
      "metadata": {
        "id": "zdbHRq5Tf5hw"
      },
      "execution_count": null,
      "outputs": []
    },
    {
      "cell_type": "code",
      "source": [],
      "metadata": {
        "id": "X_7XbhNTf5f4"
      },
      "execution_count": null,
      "outputs": []
    },
    {
      "cell_type": "code",
      "source": [],
      "metadata": {
        "collapsed": true,
        "id": "YC0_wyUJf5d-"
      },
      "execution_count": null,
      "outputs": []
    },
    {
      "cell_type": "code",
      "source": [],
      "metadata": {
        "collapsed": true,
        "id": "fMSlN_vGf5b8"
      },
      "execution_count": null,
      "outputs": []
    },
    {
      "cell_type": "code",
      "source": [],
      "metadata": {
        "id": "RuIBRNrwf5Zy"
      },
      "execution_count": null,
      "outputs": []
    },
    {
      "cell_type": "code",
      "source": [],
      "metadata": {
        "id": "wayPfXNBf5X5"
      },
      "execution_count": null,
      "outputs": []
    },
    {
      "cell_type": "code",
      "source": [],
      "metadata": {
        "id": "cYZ6RJu6f5Vq"
      },
      "execution_count": null,
      "outputs": []
    },
    {
      "cell_type": "code",
      "source": [],
      "metadata": {
        "id": "6AGNfDYJsMJ9"
      },
      "execution_count": null,
      "outputs": []
    },
    {
      "cell_type": "code",
      "source": [],
      "metadata": {
        "id": "IylkMdjAsjYd"
      },
      "execution_count": null,
      "outputs": []
    },
    {
      "cell_type": "code",
      "source": [],
      "metadata": {
        "id": "M0zZL1A4sjV-"
      },
      "execution_count": null,
      "outputs": []
    },
    {
      "cell_type": "markdown",
      "source": [
        "- 각 가중치의 영향을 해석\n",
        "  - Rooms : 147175.28 -> 방의 개수가 1씩 증가할때 주택가격이 증가 하는 것을 의미\n",
        "    - 양의 값이기 때문에 방의개수는 주택가격에 긍정적인 영향을 미친다~\n",
        "  - Distance\n",
        "    - 음의 값이기 때문에 거리가 커질수록 (중심지에서 멀어짐) 주택가격에 부정적인 영향을 미친다~\n",
        "- 숫자가 클수록 주택가격에 큰 영향을 미치는 것을 의미"
      ],
      "metadata": {
        "id": "wj_YvKAQxPxE"
      }
    },
    {
      "cell_type": "code",
      "source": [],
      "metadata": {
        "collapsed": true,
        "id": "Uh6h0cZzsjTY"
      },
      "execution_count": null,
      "outputs": []
    },
    {
      "cell_type": "code",
      "source": [],
      "metadata": {
        "id": "8iXu6hJ_sjQ1"
      },
      "execution_count": null,
      "outputs": []
    },
    {
      "cell_type": "code",
      "source": [],
      "metadata": {
        "id": "zEGsiCvQsjKm"
      },
      "execution_count": null,
      "outputs": []
    },
    {
      "cell_type": "code",
      "source": [],
      "metadata": {
        "id": "7sKAtXyZywvM"
      },
      "execution_count": null,
      "outputs": []
    },
    {
      "cell_type": "markdown",
      "source": [
        "### 회귀모델의 평가지표\n",
        "- 분류는 'accuracy 정확도' 지표를 대표적으로 활용한다\n",
        "  - 정답데이터가 범주형 -> 전체데이터에서 맞은 개수를 확률로 표현\n",
        "  - 정확도 0~1 사이의 숫자로 출력\n",
        "  - 1에 가까울수록 좋은 모델\n",
        "- 회귀는 오차기반의 평가 오차가 얼마나 적냐,크냐 에 따라서 모델의 성능을 평가한다\n",
        "  - mse(평균제곱오차, mean_squeard_error)\n",
        "    - mse 지표는 학습, 평가 모두 사용된다"
      ],
      "metadata": {
        "id": "sWOYHQkR3Qfa"
      }
    },
    {
      "cell_type": "markdown",
      "source": [
        "### 선형회귀모델의 평가지표 4가지\n",
        "- MSE: 평균제곱오차 (mean_squared_error)\n",
        "  - 오차가 작을수록 잘예측하는 성능좋은 모델\n",
        "- RMSE : mse 루트를 씌운것\n",
        "  - 해석시 단위문제를 해결하기 위해 mse 에 루트를 씌워 수치를 정상화\n",
        "- MAE : 평균절댓값오차\n",
        "  - 오차를 절댓값으로 변환해서 평균을 구한값 -> 오차에 덜 민감 (mse에비해)\n",
        "- R2 Score : 오차와 평균값을 활용하여 정규화된 평가를 가능하게끔 만들어놓은 평가 지표\n",
        "  - 0~1 사이의 값을 가지며\n",
        "  - 0에 가까울수록 평균적인 모델로 성능이 좋지 않음을 의미\n",
        "  - 1에 가까울수록 좋은 성능의 모델이다!\n",
        "  - 음수: 성능이 매우 좋지 않은 모델"
      ],
      "metadata": {
        "id": "3kP1stK0yws7"
      }
    },
    {
      "cell_type": "code",
      "source": [],
      "metadata": {
        "id": "QCN50wIEywq_"
      },
      "execution_count": null,
      "outputs": []
    },
    {
      "cell_type": "code",
      "source": [],
      "metadata": {
        "id": "hekI91k7ywo2"
      },
      "execution_count": null,
      "outputs": []
    },
    {
      "cell_type": "markdown",
      "source": [
        "- 호주지역의 사는 사람이라면 위의 오차가 큰지 작은지 판별할 수 있으니 우리는 47만달러가 잘맞췄는지 못 맞췄는지 알수가 없다\n",
        "- 회귀모델은 오차기반으로 평가를 진행\n",
        "- 회귀모델을 균일하게 공통적으로 평가할수 있는 방법?\n",
        "  - 0 ~ 1 사이의 값으로 정규화하도록 만들놓은 방법 score 함수 결과값\n",
        "  - R2 score , R square, 결정계수"
      ],
      "metadata": {
        "id": "z-KJ6CNT678p"
      }
    },
    {
      "cell_type": "markdown",
      "source": [
        "![image.png](data:image/png;base64,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)"
      ],
      "metadata": {
        "id": "jJ3w3FGvywmb"
      }
    },
    {
      "cell_type": "markdown",
      "source": [
        "- R2 Score : 오차와 평균값을 활용하여 정규화된 평가를 가능하게끔 만들어놓은 평가 지표\n",
        "  - 0~1 사이의 값을 가지며\n",
        "  - 0에 가까울수록 평균적인 모델로 성능이 좋지 않음을 의미\n",
        "  - 1에 가까울수록 좋은 성능의 모델이다!\n",
        "  - 음수: 성능이 매우 좋지 않은 모델"
      ],
      "metadata": {
        "id": "Z8EB32ILywkL"
      }
    },
    {
      "cell_type": "code",
      "source": [],
      "metadata": {
        "id": "ct-M3ZniywiJ"
      },
      "execution_count": null,
      "outputs": []
    },
    {
      "cell_type": "markdown",
      "source": [
        "### 회귀모델평가지표\n",
        "- MSE\n",
        "- RMSE\n",
        "- MAE\n",
        "- R2score"
      ],
      "metadata": {
        "id": "0iFXdwUCywgD"
      }
    },
    {
      "cell_type": "code",
      "source": [],
      "metadata": {
        "id": "viGn55HqyweD"
      },
      "execution_count": null,
      "outputs": []
    },
    {
      "cell_type": "code",
      "source": [],
      "metadata": {
        "id": "MTeP1Kbjywb7"
      },
      "execution_count": null,
      "outputs": []
    },
    {
      "cell_type": "code",
      "source": [],
      "metadata": {
        "id": "Oy79RNwsywZt"
      },
      "execution_count": null,
      "outputs": []
    },
    {
      "cell_type": "code",
      "source": [],
      "metadata": {
        "id": "g42ZH-tfywS8"
      },
      "execution_count": null,
      "outputs": []
    }
  ]
}